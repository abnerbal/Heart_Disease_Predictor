{
 "cells": [
  {
   "cell_type": "markdown",
   "metadata": {},
   "source": [
    "# Heart Disease Databases"
   ]
  },
  {
   "cell_type": "markdown",
   "metadata": {},
   "source": [
    "## Introduction"
   ]
  },
  {
   "cell_type": "markdown",
   "metadata": {},
   "source": [
    "### Background Infromation \n",
    "* This database contains 76 attributes, but all published experiments\n",
    "  refer to using a subset of 14 of them.  In particular, the Cleveland\n",
    "  database is the only one that has been used by ML researchers to \n",
    "  this date. All the attributes contain data that may be related to heart disease  \n",
    "\n",
    "### Question \n",
    "* We will try to predict the value of heart disease(values 0 - 4, where 0 means no presence of heart disease)\n",
    "\n",
    "### Dataset Description\n",
    "\n",
    "* The Dataset we are using is the cleveland proccessed data that contains data which is already in a tidy format.   out of the 14 columns we are going to use age ,chol , restecg ,cp ,num . As these show close relation with      eachother or with num(value of heart disease\n",
    "\n",
    "  \n"
   ]
  },
  {
   "cell_type": "markdown",
   "metadata": {},
   "source": [
    "## Preliminary exploratory data analysis"
   ]
  },
  {
   "cell_type": "code",
   "execution_count": 33,
   "metadata": {},
   "outputs": [
    {
     "name": "stderr",
     "output_type": "stream",
     "text": [
      "Parsed with column specification:\n",
      "cols(\n",
      "  age = \u001b[32mcol_double()\u001b[39m,\n",
      "  sex = \u001b[32mcol_double()\u001b[39m,\n",
      "  cp = \u001b[32mcol_double()\u001b[39m,\n",
      "  trestbps = \u001b[32mcol_double()\u001b[39m,\n",
      "  chol = \u001b[32mcol_double()\u001b[39m,\n",
      "  fbs = \u001b[32mcol_double()\u001b[39m,\n",
      "  restecg = \u001b[32mcol_double()\u001b[39m,\n",
      "  thalach = \u001b[32mcol_double()\u001b[39m,\n",
      "  exang = \u001b[32mcol_double()\u001b[39m,\n",
      "  oldpeak = \u001b[32mcol_double()\u001b[39m,\n",
      "  slope = \u001b[32mcol_double()\u001b[39m,\n",
      "  ca = \u001b[31mcol_character()\u001b[39m,\n",
      "  thal = \u001b[31mcol_character()\u001b[39m,\n",
      "  num = \u001b[32mcol_double()\u001b[39m\n",
      ")\n",
      "\n"
     ]
    },
    {
     "data": {
      "text/html": [
       "<table>\n",
       "<caption>A tibble: 5 × 5</caption>\n",
       "<thead>\n",
       "\t<tr><th scope=col>age</th><th scope=col>chol</th><th scope=col>restecg</th><th scope=col>cp</th><th scope=col>num</th></tr>\n",
       "\t<tr><th scope=col>&lt;dbl&gt;</th><th scope=col>&lt;dbl&gt;</th><th scope=col>&lt;fct&gt;</th><th scope=col>&lt;fct&gt;</th><th scope=col>&lt;fct&gt;</th></tr>\n",
       "</thead>\n",
       "<tbody>\n",
       "\t<tr><td>67</td><td>286</td><td>2</td><td>4</td><td>2</td></tr>\n",
       "\t<tr><td>67</td><td>229</td><td>2</td><td>4</td><td>1</td></tr>\n",
       "\t<tr><td>37</td><td>250</td><td>0</td><td>3</td><td>0</td></tr>\n",
       "\t<tr><td>41</td><td>204</td><td>2</td><td>2</td><td>0</td></tr>\n",
       "\t<tr><td>57</td><td>354</td><td>0</td><td>4</td><td>0</td></tr>\n",
       "</tbody>\n",
       "</table>\n"
      ],
      "text/latex": [
       "A tibble: 5 × 5\n",
       "\\begin{tabular}{lllll}\n",
       " age & chol & restecg & cp & num\\\\\n",
       " <dbl> & <dbl> & <fct> & <fct> & <fct>\\\\\n",
       "\\hline\n",
       "\t 67 & 286 & 2 & 4 & 2\\\\\n",
       "\t 67 & 229 & 2 & 4 & 1\\\\\n",
       "\t 37 & 250 & 0 & 3 & 0\\\\\n",
       "\t 41 & 204 & 2 & 2 & 0\\\\\n",
       "\t 57 & 354 & 0 & 4 & 0\\\\\n",
       "\\end{tabular}\n"
      ],
      "text/markdown": [
       "\n",
       "A tibble: 5 × 5\n",
       "\n",
       "| age &lt;dbl&gt; | chol &lt;dbl&gt; | restecg &lt;fct&gt; | cp &lt;fct&gt; | num &lt;fct&gt; |\n",
       "|---|---|---|---|---|\n",
       "| 67 | 286 | 2 | 4 | 2 |\n",
       "| 67 | 229 | 2 | 4 | 1 |\n",
       "| 37 | 250 | 0 | 3 | 0 |\n",
       "| 41 | 204 | 2 | 2 | 0 |\n",
       "| 57 | 354 | 0 | 4 | 0 |\n",
       "\n"
      ],
      "text/plain": [
       "  age chol restecg cp num\n",
       "1 67  286  2       4  2  \n",
       "2 67  229  2       4  1  \n",
       "3 37  250  0       3  0  \n",
       "4 41  204  2       2  0  \n",
       "5 57  354  0       4  0  "
      ]
     },
     "metadata": {},
     "output_type": "display_data"
    }
   ],
   "source": [
    "# load libs, read data from web, tidy, split into train/test\n",
    "library(tidyverse)\n",
    "library(repr)\n",
    "library(rvest)\n",
    "library(stringr)\n",
    "library(tidymodels)\n",
    "options(repr.matrix.max.rows = 6)\n",
    "\n",
    "heart_disease_url = \"https://archive.ics.uci.edu/ml/machine-learning-databases/heart-disease/processed.cleveland.data\"\n",
    "col_names = c(\"age\", \"sex\", \"cp\", \"trestbps\", \"chol\", \"fbs\", \"restecg\", \"thalach\", \"exang\", \"oldpeak\", \"slope\", \"ca\", \"thal\", \"num\")\n",
    "heart_data <- read_csv(heart_disease_url, col_names = col_names) %>% \n",
    "                        select(age,chol,restecg,cp ,num) %>%\n",
    "                        mutate(restecg=as.factor(restecg),cp=as.factor(cp),num=as.factor(num))\n",
    "\n",
    "df_split <- initial_split(heart_data, prop = 0.75, strata = num)\n",
    "heart_data_train <- training(df_split)\n",
    "heart_data_test <- testing(df_split)\n",
    "\n",
    "head(heart_data_train, 5)"
   ]
  },
  {
   "cell_type": "code",
   "execution_count": 34,
   "metadata": {},
   "outputs": [
    {
     "name": "stderr",
     "output_type": "stream",
     "text": [
      "`summarise()` ungrouping output (override with `.groups` argument)\n",
      "\n"
     ]
    },
    {
     "data": {
      "text/html": [
       "<table>\n",
       "<caption>A tibble: 4 × 2</caption>\n",
       "<thead>\n",
       "\t<tr><th scope=col>cp</th><th scope=col>n</th></tr>\n",
       "\t<tr><th scope=col>&lt;fct&gt;</th><th scope=col>&lt;int&gt;</th></tr>\n",
       "</thead>\n",
       "<tbody>\n",
       "\t<tr><td>1</td><td> 17</td></tr>\n",
       "\t<tr><td>2</td><td> 33</td></tr>\n",
       "\t<tr><td>3</td><td> 66</td></tr>\n",
       "\t<tr><td>4</td><td>113</td></tr>\n",
       "</tbody>\n",
       "</table>\n"
      ],
      "text/latex": [
       "A tibble: 4 × 2\n",
       "\\begin{tabular}{ll}\n",
       " cp & n\\\\\n",
       " <fct> & <int>\\\\\n",
       "\\hline\n",
       "\t 1 &  17\\\\\n",
       "\t 2 &  33\\\\\n",
       "\t 3 &  66\\\\\n",
       "\t 4 & 113\\\\\n",
       "\\end{tabular}\n"
      ],
      "text/markdown": [
       "\n",
       "A tibble: 4 × 2\n",
       "\n",
       "| cp &lt;fct&gt; | n &lt;int&gt; |\n",
       "|---|---|\n",
       "| 1 |  17 |\n",
       "| 2 |  33 |\n",
       "| 3 |  66 |\n",
       "| 4 | 113 |\n",
       "\n"
      ],
      "text/plain": [
       "  cp n  \n",
       "1 1   17\n",
       "2 2   33\n",
       "3 3   66\n",
       "4 4  113"
      ]
     },
     "metadata": {},
     "output_type": "display_data"
    },
    {
     "name": "stderr",
     "output_type": "stream",
     "text": [
      "`summarise()` ungrouping output (override with `.groups` argument)\n",
      "\n"
     ]
    },
    {
     "data": {
      "text/html": [
       "<table>\n",
       "<caption>A tibble: 3 × 2</caption>\n",
       "<thead>\n",
       "\t<tr><th scope=col>restecg</th><th scope=col>n</th></tr>\n",
       "\t<tr><th scope=col>&lt;fct&gt;</th><th scope=col>&lt;int&gt;</th></tr>\n",
       "</thead>\n",
       "<tbody>\n",
       "\t<tr><td>0</td><td>117</td></tr>\n",
       "\t<tr><td>1</td><td>  3</td></tr>\n",
       "\t<tr><td>2</td><td>109</td></tr>\n",
       "</tbody>\n",
       "</table>\n"
      ],
      "text/latex": [
       "A tibble: 3 × 2\n",
       "\\begin{tabular}{ll}\n",
       " restecg & n\\\\\n",
       " <fct> & <int>\\\\\n",
       "\\hline\n",
       "\t 0 & 117\\\\\n",
       "\t 1 &   3\\\\\n",
       "\t 2 & 109\\\\\n",
       "\\end{tabular}\n"
      ],
      "text/markdown": [
       "\n",
       "A tibble: 3 × 2\n",
       "\n",
       "| restecg &lt;fct&gt; | n &lt;int&gt; |\n",
       "|---|---|\n",
       "| 0 | 117 |\n",
       "| 1 |   3 |\n",
       "| 2 | 109 |\n",
       "\n"
      ],
      "text/plain": [
       "  restecg n  \n",
       "1 0       117\n",
       "2 1         3\n",
       "3 2       109"
      ]
     },
     "metadata": {},
     "output_type": "display_data"
    },
    {
     "name": "stderr",
     "output_type": "stream",
     "text": [
      "`summarise()` ungrouping output (override with `.groups` argument)\n",
      "\n"
     ]
    },
    {
     "data": {
      "text/html": [
       "<table>\n",
       "<caption>A tibble: 5 × 2</caption>\n",
       "<thead>\n",
       "\t<tr><th scope=col>num</th><th scope=col>n</th></tr>\n",
       "\t<tr><th scope=col>&lt;fct&gt;</th><th scope=col>&lt;int&gt;</th></tr>\n",
       "</thead>\n",
       "<tbody>\n",
       "\t<tr><td>0</td><td>122</td></tr>\n",
       "\t<tr><td>1</td><td> 42</td></tr>\n",
       "\t<tr><td>2</td><td> 27</td></tr>\n",
       "\t<tr><td>3</td><td> 27</td></tr>\n",
       "\t<tr><td>4</td><td> 11</td></tr>\n",
       "</tbody>\n",
       "</table>\n"
      ],
      "text/latex": [
       "A tibble: 5 × 2\n",
       "\\begin{tabular}{ll}\n",
       " num & n\\\\\n",
       " <fct> & <int>\\\\\n",
       "\\hline\n",
       "\t 0 & 122\\\\\n",
       "\t 1 &  42\\\\\n",
       "\t 2 &  27\\\\\n",
       "\t 3 &  27\\\\\n",
       "\t 4 &  11\\\\\n",
       "\\end{tabular}\n"
      ],
      "text/markdown": [
       "\n",
       "A tibble: 5 × 2\n",
       "\n",
       "| num &lt;fct&gt; | n &lt;int&gt; |\n",
       "|---|---|\n",
       "| 0 | 122 |\n",
       "| 1 |  42 |\n",
       "| 2 |  27 |\n",
       "| 3 |  27 |\n",
       "| 4 |  11 |\n",
       "\n"
      ],
      "text/plain": [
       "  num n  \n",
       "1 0   122\n",
       "2 1    42\n",
       "3 2    27\n",
       "4 3    27\n",
       "5 4    11"
      ]
     },
     "metadata": {},
     "output_type": "display_data"
    }
   ],
   "source": [
    "# data summarize\n",
    "count_cp <- group_by(heart_data_train,cp) %>%\n",
    "            summarize(n = n())\n",
    "count_cp\n",
    "\n",
    "count_restecg <- group_by(heart_data_train,restecg) %>%\n",
    "            summarize(n = n())\n",
    "count_restecg  \n",
    "\n",
    "count_num <- group_by(heart_data_train,num) %>%\n",
    "            summarize(n = n())\n",
    "count_num\n",
    "\n",
    "# data visualize\n",
    "\n",
    "chol_plot <- ggplot(heart_data_train,  aes(x = chol)) +\n",
    "    geom_histogram(bins=30) +\n",
    "    xlab(\"serum cholestoral (mg/dl)\") +\n",
    "    ggtitle(\"Serum Cholestoral Distribution\")\n",
    "    \n",
    "chol_plot\n",
    "\n",
    "age_plot <- ggplot(heart_data_train,  aes(x = age)) +\n",
    "    geom_histogram(binwidth = 3) +\n",
    "    ggtitle(\"Age Distribution\")\n",
    "    \n",
    "age_plot"
   ]
  },
  {
   "cell_type": "code",
   "execution_count": null,
   "metadata": {},
   "outputs": [],
   "source": []
  }
 ],
 "metadata": {
  "kernelspec": {
   "display_name": "R",
   "language": "R",
   "name": "ir"
  },
  "language_info": {
   "codemirror_mode": "r",
   "file_extension": ".r",
   "mimetype": "text/x-r-source",
   "name": "R",
   "pygments_lexer": "r",
   "version": "4.0.0"
  }
 },
 "nbformat": 4,
 "nbformat_minor": 4
}
