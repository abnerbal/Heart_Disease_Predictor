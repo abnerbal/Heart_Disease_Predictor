{
 "cells": [
  {
   "cell_type": "markdown",
   "metadata": {},
   "source": [
    "# Heart Disease Databases"
   ]
  },
  {
   "cell_type": "code",
   "execution_count": null,
   "metadata": {},
   "outputs": [],
   "source": [
    "## Group Members\n",
    "* Gary Wu \n",
    "* Abner Inder Singh Bal\n",
    "* Taarika "
   ]
  },
  {
   "cell_type": "markdown",
   "metadata": {},
   "source": [
    "##  Index \n",
    " 1. Introduction\n",
    "  * Background Information \n",
    "  * Question \n",
    "  * Database description \n",
    " 2. Attribute Information\n",
    " 3. Preliminary exploratory data analysis\n",
    "  * Summarize and visualize\n",
    " 4. Methods\n",
    " 5.Expected Outcomes \n",
    "  * What do you expect to find? \n",
    "  * What impact could such findings have?\n",
    "  * What future questions could this lead to "
   ]
  },
  {
   "cell_type": "markdown",
   "metadata": {},
   "source": [
    "## Introduction"
   ]
  },
  {
   "cell_type": "markdown",
   "metadata": {},
   "source": [
    "### Background Infromation \n",
    "* This database contains 76 attributes, but all published experiments\n",
    "  refer to using a subset of 14 of them.  In particular, the Cleveland\n",
    "  database is the only one that has been used by ML researchers to \n",
    "  this date. All the attributes contain data that may be related to heart disease  \n",
    "\n",
    "### Question \n",
    "* We will  analyze the predictors to try and predict the value of heart disease(num: values 0 - 4, where 0 means no presence of heart disease)\n",
    "\n",
    "### Dataset Description\n",
    "\n",
    "* The Dataset we are using is the cleveland processed data that contains data which is already in a tidy format.   out of the 14 columns we are going to use age , chol , restecg , cp and num .\n",
    "\n",
    "  \n"
   ]
  },
  {
   "cell_type": "markdown",
   "metadata": {},
   "source": [
    "## Attribute Information:\n",
    "* Only 5 out of  14 columns used\n",
    " * Age : age in years     \n",
    " * chol: serum cholestoral in mg/dl   \n",
    " * restecg: resting electrocardiographic results\n",
    "        -- Value 0: normal\n",
    "        -- Value 1: having ST-T wave abnormality (T wave inversions and/or ST \n",
    "                    elevation or depression of > 0.05 mV)\n",
    "        -- Value 2: showing probable or definite left ventricular hypertrophy\n",
    "                    by Estes' criteria\n",
    " * cp: chest pain type\n",
    "        -- Value 1: typical angina\n",
    "        -- Value 2: atypical angina\n",
    "        -- Value 3: non-anginal pain\n",
    "        -- Value 4: asymptomatic\n",
    " * num: num: diagnosis of heart disease (angiographic disease status)\n",
    "        -- Value 0: < 50% diameter narrowing \n",
    "        -- Value 1: > 50% diameter narrowing\n"
   ]
  },
  {
   "cell_type": "markdown",
   "metadata": {},
   "source": [
    "## Preliminary exploratory data analysis"
   ]
  },
  {
   "cell_type": "code",
   "execution_count": 40,
   "metadata": {},
   "outputs": [
    {
     "name": "stdout",
     "output_type": "stream",
     "text": [
      "[1] \"Read Attribute Information for more info about column names\"\n"
     ]
    },
    {
     "name": "stderr",
     "output_type": "stream",
     "text": [
      "Parsed with column specification:\n",
      "cols(\n",
      "  age = \u001b[32mcol_double()\u001b[39m,\n",
      "  sex = \u001b[32mcol_double()\u001b[39m,\n",
      "  cp = \u001b[32mcol_double()\u001b[39m,\n",
      "  trestbps = \u001b[32mcol_double()\u001b[39m,\n",
      "  chol = \u001b[32mcol_double()\u001b[39m,\n",
      "  fbs = \u001b[32mcol_double()\u001b[39m,\n",
      "  restecg = \u001b[32mcol_double()\u001b[39m,\n",
      "  thalach = \u001b[32mcol_double()\u001b[39m,\n",
      "  exang = \u001b[32mcol_double()\u001b[39m,\n",
      "  oldpeak = \u001b[32mcol_double()\u001b[39m,\n",
      "  slope = \u001b[32mcol_double()\u001b[39m,\n",
      "  ca = \u001b[31mcol_character()\u001b[39m,\n",
      "  thal = \u001b[31mcol_character()\u001b[39m,\n",
      "  num = \u001b[32mcol_double()\u001b[39m\n",
      ")\n",
      "\n"
     ]
    },
    {
     "data": {
      "text/html": [
       "<table>\n",
       "<caption>A tibble: 5 × 5</caption>\n",
       "<thead>\n",
       "\t<tr><th scope=col>age</th><th scope=col>chol</th><th scope=col>restecg</th><th scope=col>cp</th><th scope=col>num</th></tr>\n",
       "\t<tr><th scope=col>&lt;dbl&gt;</th><th scope=col>&lt;dbl&gt;</th><th scope=col>&lt;fct&gt;</th><th scope=col>&lt;fct&gt;</th><th scope=col>&lt;fct&gt;</th></tr>\n",
       "</thead>\n",
       "<tbody>\n",
       "\t<tr><td>63</td><td>233</td><td>2</td><td>1</td><td>0</td></tr>\n",
       "\t<tr><td>67</td><td>286</td><td>2</td><td>4</td><td>2</td></tr>\n",
       "\t<tr><td>67</td><td>229</td><td>2</td><td>4</td><td>1</td></tr>\n",
       "\t<tr><td>37</td><td>250</td><td>0</td><td>3</td><td>0</td></tr>\n",
       "\t<tr><td>41</td><td>204</td><td>2</td><td>2</td><td>0</td></tr>\n",
       "</tbody>\n",
       "</table>\n"
      ],
      "text/latex": [
       "A tibble: 5 × 5\n",
       "\\begin{tabular}{lllll}\n",
       " age & chol & restecg & cp & num\\\\\n",
       " <dbl> & <dbl> & <fct> & <fct> & <fct>\\\\\n",
       "\\hline\n",
       "\t 63 & 233 & 2 & 1 & 0\\\\\n",
       "\t 67 & 286 & 2 & 4 & 2\\\\\n",
       "\t 67 & 229 & 2 & 4 & 1\\\\\n",
       "\t 37 & 250 & 0 & 3 & 0\\\\\n",
       "\t 41 & 204 & 2 & 2 & 0\\\\\n",
       "\\end{tabular}\n"
      ],
      "text/markdown": [
       "\n",
       "A tibble: 5 × 5\n",
       "\n",
       "| age &lt;dbl&gt; | chol &lt;dbl&gt; | restecg &lt;fct&gt; | cp &lt;fct&gt; | num &lt;fct&gt; |\n",
       "|---|---|---|---|---|\n",
       "| 63 | 233 | 2 | 1 | 0 |\n",
       "| 67 | 286 | 2 | 4 | 2 |\n",
       "| 67 | 229 | 2 | 4 | 1 |\n",
       "| 37 | 250 | 0 | 3 | 0 |\n",
       "| 41 | 204 | 2 | 2 | 0 |\n",
       "\n"
      ],
      "text/plain": [
       "  age chol restecg cp num\n",
       "1 63  233  2       1  0  \n",
       "2 67  286  2       4  2  \n",
       "3 67  229  2       4  1  \n",
       "4 37  250  0       3  0  \n",
       "5 41  204  2       2  0  "
      ]
     },
     "metadata": {},
     "output_type": "display_data"
    }
   ],
   "source": [
    "# load libs, read data from web, tidy, split into train/test\n",
    "library(tidyverse)\n",
    "library(repr)\n",
    "library(rvest)\n",
    "library(stringr)\n",
    "library(tidymodels)\n",
    "options(repr.matrix.max.rows = 6)\n",
    "\n",
    "print(\"Read Attribute Information for more info about column names\")\n",
    "\n",
    "heart_disease_url = \"https://archive.ics.uci.edu/ml/machine-learning-databases/heart-disease/processed.cleveland.data\"\n",
    "col_names = c(\"age\", \"sex\", \"cp\", \"trestbps\", \"chol\", \"fbs\", \"restecg\", \"thalach\", \"exang\", \"oldpeak\", \"slope\", \"ca\", \"thal\", \"num\")\n",
    "heart_data <- read_csv(heart_disease_url, col_names = col_names) %>% \n",
    "                        select(age,chol,restecg,cp ,num) %>%\n",
    "                        mutate(restecg=as.factor(restecg),cp=as.factor(cp),num=as.factor(num))\n",
    "\n",
    "df_split <- initial_split(heart_data, prop = 0.75, strata = num)\n",
    "heart_data_train <- training(df_split)\n",
    "heart_data_test <- testing(df_split)\n",
    "\n",
    "head(heart_data_train, 5)"
   ]
  },
  {
   "cell_type": "markdown",
   "metadata": {},
   "source": [
    "## Summarize and visualize "
   ]
  },
  {
   "cell_type": "code",
   "execution_count": 41,
   "metadata": {},
   "outputs": [
    {
     "name": "stdout",
     "output_type": "stream",
     "text": [
      "[1] \"Read Attribute Information for more info about column names\"\n"
     ]
    },
    {
     "name": "stderr",
     "output_type": "stream",
     "text": [
      "`summarise()` ungrouping output (override with `.groups` argument)\n",
      "\n"
     ]
    },
    {
     "data": {
      "text/html": [
       "<table>\n",
       "<caption>A tibble: 4 × 2</caption>\n",
       "<thead>\n",
       "\t<tr><th scope=col>cp</th><th scope=col>count</th></tr>\n",
       "\t<tr><th scope=col>&lt;fct&gt;</th><th scope=col>&lt;int&gt;</th></tr>\n",
       "</thead>\n",
       "<tbody>\n",
       "\t<tr><td>1</td><td> 18</td></tr>\n",
       "\t<tr><td>2</td><td> 38</td></tr>\n",
       "\t<tr><td>3</td><td> 63</td></tr>\n",
       "\t<tr><td>4</td><td>110</td></tr>\n",
       "</tbody>\n",
       "</table>\n"
      ],
      "text/latex": [
       "A tibble: 4 × 2\n",
       "\\begin{tabular}{ll}\n",
       " cp & count\\\\\n",
       " <fct> & <int>\\\\\n",
       "\\hline\n",
       "\t 1 &  18\\\\\n",
       "\t 2 &  38\\\\\n",
       "\t 3 &  63\\\\\n",
       "\t 4 & 110\\\\\n",
       "\\end{tabular}\n"
      ],
      "text/markdown": [
       "\n",
       "A tibble: 4 × 2\n",
       "\n",
       "| cp &lt;fct&gt; | count &lt;int&gt; |\n",
       "|---|---|\n",
       "| 1 |  18 |\n",
       "| 2 |  38 |\n",
       "| 3 |  63 |\n",
       "| 4 | 110 |\n",
       "\n"
      ],
      "text/plain": [
       "  cp count\n",
       "1 1   18  \n",
       "2 2   38  \n",
       "3 3   63  \n",
       "4 4  110  "
      ]
     },
     "metadata": {},
     "output_type": "display_data"
    },
    {
     "name": "stderr",
     "output_type": "stream",
     "text": [
      "`summarise()` ungrouping output (override with `.groups` argument)\n",
      "\n"
     ]
    },
    {
     "data": {
      "text/html": [
       "<table>\n",
       "<caption>A tibble: 3 × 2</caption>\n",
       "<thead>\n",
       "\t<tr><th scope=col>restecg</th><th scope=col>count</th></tr>\n",
       "\t<tr><th scope=col>&lt;fct&gt;</th><th scope=col>&lt;int&gt;</th></tr>\n",
       "</thead>\n",
       "<tbody>\n",
       "\t<tr><td>0</td><td>110</td></tr>\n",
       "\t<tr><td>1</td><td>  4</td></tr>\n",
       "\t<tr><td>2</td><td>115</td></tr>\n",
       "</tbody>\n",
       "</table>\n"
      ],
      "text/latex": [
       "A tibble: 3 × 2\n",
       "\\begin{tabular}{ll}\n",
       " restecg & count\\\\\n",
       " <fct> & <int>\\\\\n",
       "\\hline\n",
       "\t 0 & 110\\\\\n",
       "\t 1 &   4\\\\\n",
       "\t 2 & 115\\\\\n",
       "\\end{tabular}\n"
      ],
      "text/markdown": [
       "\n",
       "A tibble: 3 × 2\n",
       "\n",
       "| restecg &lt;fct&gt; | count &lt;int&gt; |\n",
       "|---|---|\n",
       "| 0 | 110 |\n",
       "| 1 |   4 |\n",
       "| 2 | 115 |\n",
       "\n"
      ],
      "text/plain": [
       "  restecg count\n",
       "1 0       110  \n",
       "2 1         4  \n",
       "3 2       115  "
      ]
     },
     "metadata": {},
     "output_type": "display_data"
    },
    {
     "name": "stderr",
     "output_type": "stream",
     "text": [
      "`summarise()` ungrouping output (override with `.groups` argument)\n",
      "\n"
     ]
    },
    {
     "data": {
      "text/html": [
       "<table>\n",
       "<caption>A tibble: 5 × 2</caption>\n",
       "<thead>\n",
       "\t<tr><th scope=col>num</th><th scope=col>count</th></tr>\n",
       "\t<tr><th scope=col>&lt;fct&gt;</th><th scope=col>&lt;int&gt;</th></tr>\n",
       "</thead>\n",
       "<tbody>\n",
       "\t<tr><td>0</td><td>123</td></tr>\n",
       "\t<tr><td>1</td><td> 42</td></tr>\n",
       "\t<tr><td>2</td><td> 28</td></tr>\n",
       "\t<tr><td>3</td><td> 26</td></tr>\n",
       "\t<tr><td>4</td><td> 10</td></tr>\n",
       "</tbody>\n",
       "</table>\n"
      ],
      "text/latex": [
       "A tibble: 5 × 2\n",
       "\\begin{tabular}{ll}\n",
       " num & count\\\\\n",
       " <fct> & <int>\\\\\n",
       "\\hline\n",
       "\t 0 & 123\\\\\n",
       "\t 1 &  42\\\\\n",
       "\t 2 &  28\\\\\n",
       "\t 3 &  26\\\\\n",
       "\t 4 &  10\\\\\n",
       "\\end{tabular}\n"
      ],
      "text/markdown": [
       "\n",
       "A tibble: 5 × 2\n",
       "\n",
       "| num &lt;fct&gt; | count &lt;int&gt; |\n",
       "|---|---|\n",
       "| 0 | 123 |\n",
       "| 1 |  42 |\n",
       "| 2 |  28 |\n",
       "| 3 |  26 |\n",
       "| 4 |  10 |\n",
       "\n"
      ],
      "text/plain": [
       "  num count\n",
       "1 0   123  \n",
       "2 1    42  \n",
       "3 2    28  \n",
       "4 3    26  \n",
       "5 4    10  "
      ]
     },
     "metadata": {},
     "output_type": "display_data"
    },
    {
     "data": {
      "image/png": "[encoded data removed]",
      "text/plain": [
       "plot without title"
      ]
     },
     "metadata": {
      "image/png": {
       "height": 420,
       "width": 420
      }
     },
     "output_type": "display_data"
    },
    {
     "data": {
      "image/png": "[encoded data removed]",
      "text/plain": [
       "plot without title"
      ]
     },
     "metadata": {
      "image/png": {
       "height": 420,
       "width": 420
      }
     },
     "output_type": "display_data"
    }
   ],
   "source": [
    "# data summarize\n",
    "print(\"Read Attribute Information for more info about column names\")\n",
    "count_cp <- group_by(heart_data_train,cp) %>%\n",
    "            summarize(count = n())\n",
    "count_cp\n",
    "\n",
    "count_restecg <- group_by(heart_data_train,restecg) %>%\n",
    "            summarize(count = n())\n",
    "count_restecg  \n",
    "\n",
    "count_num <- group_by(heart_data_train,num) %>%\n",
    "            summarize(count = n())\n",
    "count_num\n",
    "\n",
    "# data visualize\n",
    "\n",
    "chol_plot <- ggplot(heart_data_train,  aes(x = chol)) +\n",
    "    geom_histogram(bins=30) +\n",
    "    xlab(\"serum cholestoral (mg/dl)\") +\n",
    "    ggtitle(\"Serum Cholestoral Distribution\")\n",
    "    \n",
    "chol_plot\n",
    "\n",
    "age_plot <- ggplot(heart_data_train,  aes(x = age)) +\n",
    "    geom_histogram(binwidth = 3) +\n",
    "    ggtitle(\"Age Distribution\")\n",
    "    \n",
    "age_plot"
   ]
  },
  {
   "cell_type": "markdown",
   "metadata": {},
   "source": [
    "## Methods\n",
    "* We are going to use age, chol, restecg, cp to predict num (read Attribute Information for more info). We selected these predictors based on visualizing the relationship between some variables and daily knowledge.\n",
    "* We decided to use color prediction maps to visualize the results. \n",
    "* We will Create a k-nn model specification with a recipe and Train the model with the training data to build   the classifier.Then we will use the  testing data and make the predictions.\n"
   ]
  },
  {
   "cell_type": "markdown",
   "metadata": {},
   "source": [
    "## Expected Outcomes \n",
    "### What do you expect to find?\n",
    "\n",
    "* We expect to find a relation the predictors(age , chol , restecg , cp )  and num(value of heart disease)\n",
    "\n",
    "### What impact could such findings have?\n",
    "\n",
    "* This finding could lead to recognition or diagnoses of heart disease on the bases of the predictors we used\n",
    "\n",
    "### What future questions could this lead to \n",
    "\n",
    "* It could lead to questions such as:\n",
    " * Is there a relation between our predictors and num ?\n",
    " * What combination of attributes can lead to a more accurate diagnosis of heart disease ?\n",
    " * Which attributes we  used in the analysis do not have a relation with num ?\n"
   ]
  },
  {
   "cell_type": "code",
   "execution_count": null,
   "metadata": {},
   "outputs": [],
   "source": []
  }
 ],
 "metadata": {
  "kernelspec": {
   "display_name": "R",
   "language": "R",
   "name": "ir"
  },
  "language_info": {
   "codemirror_mode": "r",
   "file_extension": ".r",
   "mimetype": "text/x-r-source",
   "name": "R",
   "pygments_lexer": "r",
   "version": "4.0.0"
  }
 },
 "nbformat": 4,
 "nbformat_minor": 4
}
