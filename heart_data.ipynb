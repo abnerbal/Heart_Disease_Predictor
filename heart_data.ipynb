{
 "cells": [
  {
   "cell_type": "code",
   "execution_count": 3,
   "metadata": {},
   "outputs": [],
   "source": [
    "### Run this cell before continuing. \n",
    "library(tidyverse)\n",
    "library(repr)\n",
    "library(rvest)\n",
    "library(stringr)\n",
    "library(tidymodels)\n",
    "options(repr.matrix.max.rows = 6)"
   ]
  },
  {
   "cell_type": "markdown",
   "metadata": {},
   "source": [
    "This database contains 76 attributes, but all published experiments\n",
    "refer to using a subset of 14 of them.  In particular, the Cleveland\n",
    "database is the only one that has been used by ML researchers to \n",
    "this date.  The \"goal\" field refers to the presence of heart disease\n",
    "in the patient.  It is integer valued from 0 (no presence) to "
   ]
  },
  {
   "cell_type": "markdown",
   "metadata": {},
   "source": [
    "# Heart Disease Databases"
   ]
  },
  {
   "cell_type": "markdown",
   "metadata": {},
   "source": [
    "## Introduction"
   ]
  },
  {
   "cell_type": "markdown",
   "metadata": {},
   "source": [
    "### Background Infromation \n",
    "* This database contains 76 attributes, but all published experiments\n",
    "  refer to using a subset of 14 of them.  In particular, the Cleveland\n",
    "  database is the only one that has been used by ML researchers to \n",
    "  this date. All the attributes contain data that may be related to heart disease  \n",
    "\n",
    "### Question \n",
    "* We will try to predict the value of heart disease(values 0 - 4, where 0 means no presence of heart disease)\n",
    "\n",
    "### Dataset Description\n",
    "\n",
    "* The Dataset we are using is the cleveland proccessed data that contains data which is already in a tidy format.   out of the 14 columns we are going to use age ,chol , restecg ,cp ,num . As these show close relation with      eachother or with num(value of heart disease\n",
    "\n",
    "  \n"
   ]
  },
  {
   "cell_type": "code",
<<<<<<< HEAD
   "execution_count": 123,
=======
   "execution_count": 4,
>>>>>>> 50353ee9e0716830bca0ba80bc0e67695aa18b42
   "metadata": {},
   "outputs": [
    {
     "name": "stderr",
     "output_type": "stream",
     "text": [
      "Parsed with column specification:\n",
      "cols(\n",
      "  age = \u001b[32mcol_double()\u001b[39m,\n",
      "  sex = \u001b[32mcol_double()\u001b[39m,\n",
      "  cp = \u001b[32mcol_double()\u001b[39m,\n",
      "  trestbps = \u001b[32mcol_double()\u001b[39m,\n",
      "  chol = \u001b[32mcol_double()\u001b[39m,\n",
      "  fbs = \u001b[32mcol_double()\u001b[39m,\n",
      "  restecg = \u001b[32mcol_double()\u001b[39m,\n",
      "  thalach = \u001b[32mcol_double()\u001b[39m,\n",
      "  exang = \u001b[32mcol_double()\u001b[39m,\n",
      "  oldpeak = \u001b[32mcol_double()\u001b[39m,\n",
      "  slope = \u001b[32mcol_double()\u001b[39m,\n",
      "  ca = \u001b[31mcol_character()\u001b[39m,\n",
      "  thal = \u001b[31mcol_character()\u001b[39m,\n",
      "  num = \u001b[32mcol_double()\u001b[39m\n",
      ")\n",
      "\n"
     ]
    },
    {
     "data": {
      "text/html": [
       "<table>\n",
       "<caption>A tibble: 5 × 5</caption>\n",
       "<thead>\n",
       "\t<tr><th scope=col>age</th><th scope=col>chol</th><th scope=col>restecg</th><th scope=col>cp</th><th scope=col>num</th></tr>\n",
       "\t<tr><th scope=col>&lt;dbl&gt;</th><th scope=col>&lt;fct&gt;</th><th scope=col>&lt;fct&gt;</th><th scope=col>&lt;fct&gt;</th><th scope=col>&lt;dbl&gt;</th></tr>\n",
       "</thead>\n",
       "<tbody>\n",
       "\t<tr><td>63</td><td>233</td><td>2</td><td>1</td><td>0</td></tr>\n",
       "\t<tr><td>67</td><td>286</td><td>2</td><td>4</td><td>2</td></tr>\n",
       "\t<tr><td>67</td><td>229</td><td>2</td><td>4</td><td>1</td></tr>\n",
       "\t<tr><td>37</td><td>250</td><td>0</td><td>3</td><td>0</td></tr>\n",
       "\t<tr><td>41</td><td>204</td><td>2</td><td>2</td><td>0</td></tr>\n",
       "</tbody>\n",
       "</table>\n"
      ],
      "text/latex": [
       "A tibble: 5 × 5\n",
       "\\begin{tabular}{lllll}\n",
       " age & chol & restecg & cp & num\\\\\n",
       " <dbl> & <fct> & <fct> & <fct> & <dbl>\\\\\n",
       "\\hline\n",
       "\t 63 & 233 & 2 & 1 & 0\\\\\n",
       "\t 67 & 286 & 2 & 4 & 2\\\\\n",
       "\t 67 & 229 & 2 & 4 & 1\\\\\n",
       "\t 37 & 250 & 0 & 3 & 0\\\\\n",
       "\t 41 & 204 & 2 & 2 & 0\\\\\n",
       "\\end{tabular}\n"
      ],
      "text/markdown": [
       "\n",
       "A tibble: 5 × 5\n",
       "\n",
       "| age &lt;dbl&gt; | chol &lt;fct&gt; | restecg &lt;fct&gt; | cp &lt;fct&gt; | num &lt;dbl&gt; |\n",
       "|---|---|---|---|---|\n",
       "| 63 | 233 | 2 | 1 | 0 |\n",
       "| 67 | 286 | 2 | 4 | 2 |\n",
       "| 67 | 229 | 2 | 4 | 1 |\n",
       "| 37 | 250 | 0 | 3 | 0 |\n",
       "| 41 | 204 | 2 | 2 | 0 |\n",
       "\n"
      ],
      "text/plain": [
       "  age chol restecg cp num\n",
       "1 63  233  2       1  0  \n",
       "2 67  286  2       4  2  \n",
       "3 67  229  2       4  1  \n",
       "4 37  250  0       3  0  \n",
       "5 41  204  2       2  0  "
      ]
     },
     "metadata": {},
     "output_type": "display_data"
    }
   ],
   "source": [
    "heart_disease_url = \"https://archive.ics.uci.edu/ml/machine-learning-databases/heart-disease/processed.cleveland.data\"\n",
    "\n",
    "\n",
    "heart_data <- read_csv(heart_disease_url, col_names = c(\"age\", \"sex\", \"cp\", \"trestbps\", \"chol\", \"fbs\",\n",
    "                                                               \"restecg\", \"thalach\", \"exang\", \"oldpeak\", \"slope\",\n",
    "                                                               \"ca\", \"thal\", \"num\")) %>% \n",
    "                        mutate(cp = as.factor(cp), fbs = as.factor(fbs), restecg = as.factor(restecg), \n",
    "                               exang = as.factor(exang), slope = as.factor(slope), sex = as.factor(sex), chol = as.factor(chol)) %>% \n",
    "                        select(age,chol,restecg,cp ,num)\n",
    "head(heart_data, 5)"
   ]
  },
  {
   "cell_type": "code",
<<<<<<< HEAD
   "execution_count": 124,
=======
   "execution_count": 5,
>>>>>>> 50353ee9e0716830bca0ba80bc0e67695aa18b42
   "metadata": {},
   "outputs": [
    {
     "name": "stderr",
     "output_type": "stream",
     "text": [
      "`summarise()` ungrouping output (override with `.groups` argument)\n",
      "\n"
     ]
    },
    {
     "data": {
      "text/html": [
       "<table>\n",
       "<caption>A tibble: 4 × 2</caption>\n",
       "<thead>\n",
       "\t<tr><th scope=col>cp</th><th scope=col>n</th></tr>\n",
       "\t<tr><th scope=col>&lt;fct&gt;</th><th scope=col>&lt;int&gt;</th></tr>\n",
       "</thead>\n",
       "<tbody>\n",
       "\t<tr><td>1</td><td> 23</td></tr>\n",
       "\t<tr><td>2</td><td> 50</td></tr>\n",
       "\t<tr><td>3</td><td> 86</td></tr>\n",
       "\t<tr><td>4</td><td>144</td></tr>\n",
       "</tbody>\n",
       "</table>\n"
      ],
      "text/latex": [
       "A tibble: 4 × 2\n",
       "\\begin{tabular}{ll}\n",
       " cp & n\\\\\n",
       " <fct> & <int>\\\\\n",
       "\\hline\n",
       "\t 1 &  23\\\\\n",
       "\t 2 &  50\\\\\n",
       "\t 3 &  86\\\\\n",
       "\t 4 & 144\\\\\n",
       "\\end{tabular}\n"
      ],
      "text/markdown": [
       "\n",
       "A tibble: 4 × 2\n",
       "\n",
       "| cp &lt;fct&gt; | n &lt;int&gt; |\n",
       "|---|---|\n",
       "| 1 |  23 |\n",
       "| 2 |  50 |\n",
       "| 3 |  86 |\n",
       "| 4 | 144 |\n",
       "\n"
      ],
      "text/plain": [
       "  cp n  \n",
       "1 1   23\n",
       "2 2   50\n",
       "3 3   86\n",
       "4 4  144"
      ]
     },
     "metadata": {},
     "output_type": "display_data"
    }
   ],
   "source": [
    "count_cp <- group_by(heart_data,cp) %>%\n",
    "            summarize(n = n())\n",
    "count_cp       "
   ]
  },
  {
   "cell_type": "code",
<<<<<<< HEAD
   "execution_count": 125,
=======
   "execution_count": 6,
>>>>>>> 50353ee9e0716830bca0ba80bc0e67695aa18b42
   "metadata": {},
   "outputs": [
    {
     "name": "stderr",
     "output_type": "stream",
     "text": [
      "`summarise()` ungrouping output (override with `.groups` argument)\n",
      "\n"
     ]
    },
    {
     "data": {
      "text/html": [
       "<table>\n",
       "<caption>A tibble: 3 × 2</caption>\n",
       "<thead>\n",
       "\t<tr><th scope=col>restecg</th><th scope=col>n</th></tr>\n",
       "\t<tr><th scope=col>&lt;fct&gt;</th><th scope=col>&lt;int&gt;</th></tr>\n",
       "</thead>\n",
       "<tbody>\n",
       "\t<tr><td>0</td><td>151</td></tr>\n",
       "\t<tr><td>1</td><td>  4</td></tr>\n",
       "\t<tr><td>2</td><td>148</td></tr>\n",
       "</tbody>\n",
       "</table>\n"
      ],
      "text/latex": [
       "A tibble: 3 × 2\n",
       "\\begin{tabular}{ll}\n",
       " restecg & n\\\\\n",
       " <fct> & <int>\\\\\n",
       "\\hline\n",
       "\t 0 & 151\\\\\n",
       "\t 1 &   4\\\\\n",
       "\t 2 & 148\\\\\n",
       "\\end{tabular}\n"
      ],
      "text/markdown": [
       "\n",
       "A tibble: 3 × 2\n",
       "\n",
       "| restecg &lt;fct&gt; | n &lt;int&gt; |\n",
       "|---|---|\n",
       "| 0 | 151 |\n",
       "| 1 |   4 |\n",
       "| 2 | 148 |\n",
       "\n"
      ],
      "text/plain": [
       "  restecg n  \n",
       "1 0       151\n",
       "2 1         4\n",
       "3 2       148"
      ]
     },
     "metadata": {},
     "output_type": "display_data"
    }
   ],
   "source": [
    "count_restecg <- group_by(heart_data,restecg) %>%\n",
    "            summarize(n = n())\n",
    "count_restecg       "
   ]
  },
  {
   "cell_type": "code",
<<<<<<< HEAD
   "execution_count": 126,
=======
   "execution_count": 7,
>>>>>>> 50353ee9e0716830bca0ba80bc0e67695aa18b42
   "metadata": {},
   "outputs": [
    {
     "name": "stderr",
     "output_type": "stream",
     "text": [
      "`summarise()` ungrouping output (override with `.groups` argument)\n",
      "\n"
     ]
    },
    {
     "data": {
      "text/html": [
       "<table>\n",
       "<caption>A tibble: 5 × 2</caption>\n",
       "<thead>\n",
       "\t<tr><th scope=col>num</th><th scope=col>n</th></tr>\n",
       "\t<tr><th scope=col>&lt;dbl&gt;</th><th scope=col>&lt;int&gt;</th></tr>\n",
       "</thead>\n",
       "<tbody>\n",
       "\t<tr><td>0</td><td>164</td></tr>\n",
       "\t<tr><td>1</td><td> 55</td></tr>\n",
       "\t<tr><td>2</td><td> 36</td></tr>\n",
       "\t<tr><td>3</td><td> 35</td></tr>\n",
       "\t<tr><td>4</td><td> 13</td></tr>\n",
       "</tbody>\n",
       "</table>\n"
      ],
      "text/latex": [
       "A tibble: 5 × 2\n",
       "\\begin{tabular}{ll}\n",
       " num & n\\\\\n",
       " <dbl> & <int>\\\\\n",
       "\\hline\n",
       "\t 0 & 164\\\\\n",
       "\t 1 &  55\\\\\n",
       "\t 2 &  36\\\\\n",
       "\t 3 &  35\\\\\n",
       "\t 4 &  13\\\\\n",
       "\\end{tabular}\n"
      ],
      "text/markdown": [
       "\n",
       "A tibble: 5 × 2\n",
       "\n",
       "| num &lt;dbl&gt; | n &lt;int&gt; |\n",
       "|---|---|\n",
       "| 0 | 164 |\n",
       "| 1 |  55 |\n",
       "| 2 |  36 |\n",
       "| 3 |  35 |\n",
       "| 4 |  13 |\n",
       "\n"
      ],
      "text/plain": [
       "  num n  \n",
       "1 0   164\n",
       "2 1    55\n",
       "3 2    36\n",
       "4 3    35\n",
       "5 4    13"
      ]
     },
     "metadata": {},
     "output_type": "display_data"
    }
   ],
   "source": [
    "count_num <- group_by(heart_data,num) %>%\n",
    "            summarize(n = n())\n",
    "count_num       "
   ]
  },
  {
   "cell_type": "code",
<<<<<<< HEAD
   "execution_count": 127,
=======
   "execution_count": 8,
>>>>>>> 50353ee9e0716830bca0ba80bc0e67695aa18b42
   "metadata": {},
   "outputs": [
    {
     "data": {
<<<<<<< HEAD
      "image/png": "iVBORw0KGgoAAAANSUhEUgAAA0gAAANICAMAAADKOT/pAAAC01BMVEUAAAAAv8QBAQECAgID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\nBCQih4BE5BCQiBz6/wWbU12dVfAOAAAAAElFTkSuQmCC",
=======
      "image/png": "iVBORw0KGgoAAAANSUhEUgAAA0gAAANICAMAAADKOT/pAAACglBMVEUAAAABAQECAgIEBAQF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",
>>>>>>> 50353ee9e0716830bca0ba80bc0e67695aa18b42
      "text/plain": [
       "plot without title"
      ]
     },
     "metadata": {
      "image/png": {
       "height": 420,
       "width": 420
      }
     },
     "output_type": "display_data"
    }
   ],
   "source": [
<<<<<<< HEAD
    "\n",
    "heart_plot <- ggplot(heart_data ,  aes(x = age ,y= num , fill = cp )) +\n",
    "    geom_bar(stat=\"identity\") \n",
=======
    "chol_plot <- ggplot(heart_data,  aes(x = chol)) +\n",
    "    geom_histogram(bins=30)\n",
>>>>>>> 50353ee9e0716830bca0ba80bc0e67695aa18b42
    "    \n",
    "chol_plot"
   ]
  },
  {
   "cell_type": "code",
   "execution_count": 16,
   "metadata": {},
   "outputs": [
    {
     "data": {
      "image/png": "iVBORw0KGgoAAAANSUhEUgAAA0gAAANICAMAAADKOT/pAAACr1BMVEUAAAABAQECAgIDAwME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\nAElFTkSuQmCC",
      "text/plain": [
       "plot without title"
      ]
     },
     "metadata": {
      "image/png": {
       "height": 420,
       "width": 420
      }
     },
     "output_type": "display_data"
    }
   ],
   "source": [
    "age_plot <- ggplot(heart_data,  aes(x = age)) +\n",
    "    geom_histogram(binwidth=3)\n",
    "    \n",
    "age_plot"
   ]
  },
  {
   "cell_type": "code",
<<<<<<< HEAD
   "execution_count": 128,
=======
   "execution_count": 9,
>>>>>>> 50353ee9e0716830bca0ba80bc0e67695aa18b42
   "metadata": {},
   "outputs": [
    {
     "data": {
      "image/png": "iVBORw0KGgoAAAANSUhEUgAAA0gAAANICAMAAADKOT/pAAACu1BMVEUAAAAAv8QBAQECAgID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\nFAISUQoBiSiF/g81ht9jBfH6awAAAABJRU5ErkJggg==",
      "text/plain": [
       "plot without title"
      ]
     },
     "metadata": {
      "image/png": {
       "height": 420,
       "width": 420
      }
     },
     "output_type": "display_data"
    }
   ],
   "source": [
    "\n",
    "heart_plot <- ggplot(heart_data ,  aes(x = num , y = chol , fill = cp )) +\n",
    "    geom_bar(stat=\"identity\") \n",
    "    \n",
    "    \n",
    "heart_plot\n"
   ]
  },
  {
   "cell_type": "code",
<<<<<<< HEAD
   "execution_count": null,
   "metadata": {},
   "outputs": [],
   "source": []
  },
  {
   "cell_type": "code",
   "execution_count": null,
   "metadata": {},
   "outputs": [],
   "source": []
=======
   "execution_count": 10,
   "metadata": {},
   "outputs": [
    {
     "data": {
      "image/png": "iVBORw0KGgoAAAANSUhEUgAAA0gAAANICAMAAADKOT/pAAAC31BMVEUAAAAAujgBAQECAgID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",
      "text/plain": [
       "plot without title"
      ]
     },
     "metadata": {
      "image/png": {
       "height": 420,
       "width": 420
      }
     },
     "output_type": "display_data"
    }
   ],
   "source": [
    "heart_plot2 <- ggplot(heart_data ,  aes(x = num , y = age , fill = restecg )) +\n",
    "    geom_bar(stat=\"identity\") \n",
    "heart_plot2"
   ]
>>>>>>> 50353ee9e0716830bca0ba80bc0e67695aa18b42
  },
  {
   "cell_type": "code",
   "execution_count": null,
   "metadata": {},
   "outputs": [],
   "source": []
  },
  {
   "cell_type": "code",
   "execution_count": null,
   "metadata": {},
   "outputs": [],
   "source": []
  }
 ],
 "metadata": {
  "kernelspec": {
   "display_name": "R",
   "language": "R",
   "name": "ir"
  },
  "language_info": {
   "codemirror_mode": "r",
   "file_extension": ".r",
   "mimetype": "text/x-r-source",
   "name": "R",
   "pygments_lexer": "r",
   "version": "4.0.0"
  }
 },
 "nbformat": 4,
 "nbformat_minor": 4
}
