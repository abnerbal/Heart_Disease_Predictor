{
 "cells": [
  {
   "cell_type": "markdown",
   "metadata": {},
   "source": [
    "# Predcited Heart Disease Diagnoses - DSCI100 Group Project"
   ]
  },
  {
   "cell_type": "markdown",
   "metadata": {},
   "source": [
    "## Group Members\n",
    "* Gary Wu \n",
    "* Abner Inder Singh Bal\n",
    "* Taarika Rajani"
   ]
  },
  {
   "cell_type": "markdown",
   "metadata": {},
   "source": [
    "## Introduction"
   ]
  },
  {
   "cell_type": "markdown",
   "metadata": {},
   "source": [
    "### Background Information on our topic\n",
    "* Heart disease is one of the leading causes of death in developed nations as it is considered a lifestyle related disorder (1 person dies every 36 seconds from cardiovascular disease in the US). As rates of heart disease increase and strain medical systems around the world, our group has chosen to explore how we can use predictor variables (in the form of patient data) to predict diagnoses of disease. Perhaps using such data to make predictions can save costs associated with expensive medical testing and can identify patients at greater risk for diagnoses (who could then be allocated further testing resources).\n",
    "\n",
    "### Question \n",
    "* How can we use predictor variables (specific patient data) to predict the presence of heart disease? Specifically, can age, cholesterol levels, resting electrocardiographic test results and chest pain data be used to predict patients' heart disease diagnoses?\n",
    "\n",
    "### Dataset Description\n",
    "\n",
    "* The Cleveland Heart Disease Dataset contains data on 76 patient attributes related to heart disease. All published experiments have previously used a subset of 14 attributes most relevant to heart disease. The dataset is preprocessed and contains data which is already in a tidy format. Of the 14 columns previously used in experimental analyses we are going to use the 5 columns: \n",
    "age , chol , restecg , cp and num.\n",
    "\n",
    "\n",
    "  \n",
    "  \n"
   ]
  },
  {
   "cell_type": "markdown",
   "metadata": {},
   "source": [
    "## Dataset Attribute Information:\n",
    "* Only 5 out of  14 columns will be used\n",
    " * Age : age in years     \n",
    " * chol: serum cholesterol in mg/dl   \n",
    " * restecg: resting electrocardiographic results\n",
    "        -- Value 0: normal\n",
    "        -- Value 1: having ST-T wave abnormality (T wave inversions and/or ST \n",
    "                    elevation or depression of > 0.05 mV)\n",
    "        -- Value 2: showing probable or definite left ventricular hypertrophy\n",
    "                    by Estes' criteria\n",
    " * cp: chest pain type\n",
    "        -- Value 1: typical angina\n",
    "        -- Value 2: atypical angina\n",
    "        -- Value 3: non-anginal pain\n",
    "        -- Value 4: asymptomatic\n",
    " * num: diagnosis of heart disease (angiographic disease status)\n",
    "        -- Value 0: < 50% diameter narrowing (no disease)\n",
    "        -- Value 1: > 50% diameter narrowing (early stage disease)\n",
    "        -- Values above 1: Heart disease\n"
   ]
  },
  {
   "cell_type": "markdown",
   "metadata": {},
   "source": [
    "## Preliminary exploratory data analysis"
   ]
  },
  {
   "cell_type": "code",
   "execution_count": 21,
   "metadata": {},
   "outputs": [
    {
     "name": "stdout",
     "output_type": "stream",
     "text": [
      "[1] \"Read Attribute Information for more info about column names\"\n"
     ]
    },
    {
     "name": "stderr",
     "output_type": "stream",
     "text": [
      "Parsed with column specification:\n",
      "cols(\n",
      "  age = \u001b[32mcol_double()\u001b[39m,\n",
      "  sex = \u001b[32mcol_double()\u001b[39m,\n",
      "  cp = \u001b[32mcol_double()\u001b[39m,\n",
      "  trestbps = \u001b[32mcol_double()\u001b[39m,\n",
      "  chol = \u001b[32mcol_double()\u001b[39m,\n",
      "  fbs = \u001b[32mcol_double()\u001b[39m,\n",
      "  restecg = \u001b[32mcol_double()\u001b[39m,\n",
      "  thalach = \u001b[32mcol_double()\u001b[39m,\n",
      "  exang = \u001b[32mcol_double()\u001b[39m,\n",
      "  oldpeak = \u001b[32mcol_double()\u001b[39m,\n",
      "  slope = \u001b[32mcol_double()\u001b[39m,\n",
      "  ca = \u001b[31mcol_character()\u001b[39m,\n",
      "  thal = \u001b[31mcol_character()\u001b[39m,\n",
      "  num = \u001b[32mcol_double()\u001b[39m\n",
      ")\n",
      "\n"
     ]
    },
    {
     "data": {
      "text/html": [
       "<table>\n",
       "<caption>A tibble: 5 × 5</caption>\n",
       "<thead>\n",
       "\t<tr><th scope=col>age</th><th scope=col>chol</th><th scope=col>restecg</th><th scope=col>cp</th><th scope=col>num</th></tr>\n",
       "\t<tr><th scope=col>&lt;dbl&gt;</th><th scope=col>&lt;dbl&gt;</th><th scope=col>&lt;fct&gt;</th><th scope=col>&lt;fct&gt;</th><th scope=col>&lt;fct&gt;</th></tr>\n",
       "</thead>\n",
       "<tbody>\n",
       "\t<tr><td>41</td><td>204</td><td>2</td><td>2</td><td>0</td></tr>\n",
       "\t<tr><td>62</td><td>268</td><td>2</td><td>4</td><td>3</td></tr>\n",
       "\t<tr><td>57</td><td>354</td><td>0</td><td>4</td><td>0</td></tr>\n",
       "\t<tr><td>63</td><td>254</td><td>2</td><td>4</td><td>2</td></tr>\n",
       "\t<tr><td>44</td><td>263</td><td>0</td><td>2</td><td>0</td></tr>\n",
       "</tbody>\n",
       "</table>\n"
      ],
      "text/latex": [
       "A tibble: 5 × 5\n",
       "\\begin{tabular}{lllll}\n",
       " age & chol & restecg & cp & num\\\\\n",
       " <dbl> & <dbl> & <fct> & <fct> & <fct>\\\\\n",
       "\\hline\n",
       "\t 41 & 204 & 2 & 2 & 0\\\\\n",
       "\t 62 & 268 & 2 & 4 & 3\\\\\n",
       "\t 57 & 354 & 0 & 4 & 0\\\\\n",
       "\t 63 & 254 & 2 & 4 & 2\\\\\n",
       "\t 44 & 263 & 0 & 2 & 0\\\\\n",
       "\\end{tabular}\n"
      ],
      "text/markdown": [
       "\n",
       "A tibble: 5 × 5\n",
       "\n",
       "| age &lt;dbl&gt; | chol &lt;dbl&gt; | restecg &lt;fct&gt; | cp &lt;fct&gt; | num &lt;fct&gt; |\n",
       "|---|---|---|---|---|\n",
       "| 41 | 204 | 2 | 2 | 0 |\n",
       "| 62 | 268 | 2 | 4 | 3 |\n",
       "| 57 | 354 | 0 | 4 | 0 |\n",
       "| 63 | 254 | 2 | 4 | 2 |\n",
       "| 44 | 263 | 0 | 2 | 0 |\n",
       "\n"
      ],
      "text/plain": [
       "  age chol restecg cp num\n",
       "1 41  204  2       2  0  \n",
       "2 62  268  2       4  3  \n",
       "3 57  354  0       4  0  \n",
       "4 63  254  2       4  2  \n",
       "5 44  263  0       2  0  "
      ]
     },
     "metadata": {},
     "output_type": "display_data"
    }
   ],
   "source": [
    "# load libs, read data from web, tidy, split into train/test\n",
    "library(tidyverse)\n",
    "library(repr)\n",
    "library(rvest)\n",
    "library(stringr)\n",
    "library(tidymodels)\n",
    "options(repr.matrix.max.rows = 6)\n",
    "\n",
    "print(\"Read Attribute Information for more info about column names\")\n",
    "\n",
    "heart_disease_url = \"https://archive.ics.uci.edu/ml/machine-learning-databases/heart-disease/processed.cleveland.data\"\n",
    "col_names = c(\"age\", \"sex\", \"cp\", \"trestbps\", \"chol\", \"fbs\", \"restecg\", \"thalach\", \"exang\", \"oldpeak\", \"slope\", \"ca\", \"thal\", \"num\")\n",
    "heart_data <- read_csv(heart_disease_url, col_names = col_names) %>% \n",
    "                        select(age,chol,restecg,cp ,num) %>%\n",
    "                        mutate(restecg=as.factor(restecg),cp=as.factor(cp),num=as.factor(num))\n",
    "\n",
    "df_split <- initial_split(heart_data, prop = 0.75, strata = num)\n",
    "heart_data_train <- training(df_split)\n",
    "heart_data_test <- testing(df_split)\n",
    "\n",
    "head(heart_data_train, 5)"
   ]
  },
  {
   "cell_type": "markdown",
   "metadata": {},
   "source": [
    "## Summarize and visualize "
   ]
  },
  {
   "cell_type": "code",
   "execution_count": 22,
   "metadata": {},
   "outputs": [
    {
     "name": "stdout",
     "output_type": "stream",
     "text": [
      "[1] \"Read Attribute Information for more info about column names\"\n"
     ]
    },
    {
     "name": "stderr",
     "output_type": "stream",
     "text": [
      "`summarise()` ungrouping output (override with `.groups` argument)\n",
      "\n"
     ]
    },
    {
     "data": {
      "text/html": [
       "<table>\n",
       "<caption>A tibble: 4 × 2</caption>\n",
       "<thead>\n",
       "\t<tr><th scope=col>cp</th><th scope=col>count</th></tr>\n",
       "\t<tr><th scope=col>&lt;fct&gt;</th><th scope=col>&lt;int&gt;</th></tr>\n",
       "</thead>\n",
       "<tbody>\n",
       "\t<tr><td>1</td><td> 20</td></tr>\n",
       "\t<tr><td>2</td><td> 38</td></tr>\n",
       "\t<tr><td>3</td><td> 62</td></tr>\n",
       "\t<tr><td>4</td><td>109</td></tr>\n",
       "</tbody>\n",
       "</table>\n"
      ],
      "text/latex": [
       "A tibble: 4 × 2\n",
       "\\begin{tabular}{ll}\n",
       " cp & count\\\\\n",
       " <fct> & <int>\\\\\n",
       "\\hline\n",
       "\t 1 &  20\\\\\n",
       "\t 2 &  38\\\\\n",
       "\t 3 &  62\\\\\n",
       "\t 4 & 109\\\\\n",
       "\\end{tabular}\n"
      ],
      "text/markdown": [
       "\n",
       "A tibble: 4 × 2\n",
       "\n",
       "| cp &lt;fct&gt; | count &lt;int&gt; |\n",
       "|---|---|\n",
       "| 1 |  20 |\n",
       "| 2 |  38 |\n",
       "| 3 |  62 |\n",
       "| 4 | 109 |\n",
       "\n"
      ],
      "text/plain": [
       "  cp count\n",
       "1 1   20  \n",
       "2 2   38  \n",
       "3 3   62  \n",
       "4 4  109  "
      ]
     },
     "metadata": {},
     "output_type": "display_data"
    },
    {
     "name": "stderr",
     "output_type": "stream",
     "text": [
      "`summarise()` ungrouping output (override with `.groups` argument)\n",
      "\n"
     ]
    },
    {
     "data": {
      "text/html": [
       "<table>\n",
       "<caption>A tibble: 3 × 2</caption>\n",
       "<thead>\n",
       "\t<tr><th scope=col>restecg</th><th scope=col>count</th></tr>\n",
       "\t<tr><th scope=col>&lt;fct&gt;</th><th scope=col>&lt;int&gt;</th></tr>\n",
       "</thead>\n",
       "<tbody>\n",
       "\t<tr><td>0</td><td>118</td></tr>\n",
       "\t<tr><td>1</td><td>  3</td></tr>\n",
       "\t<tr><td>2</td><td>108</td></tr>\n",
       "</tbody>\n",
       "</table>\n"
      ],
      "text/latex": [
       "A tibble: 3 × 2\n",
       "\\begin{tabular}{ll}\n",
       " restecg & count\\\\\n",
       " <fct> & <int>\\\\\n",
       "\\hline\n",
       "\t 0 & 118\\\\\n",
       "\t 1 &   3\\\\\n",
       "\t 2 & 108\\\\\n",
       "\\end{tabular}\n"
      ],
      "text/markdown": [
       "\n",
       "A tibble: 3 × 2\n",
       "\n",
       "| restecg &lt;fct&gt; | count &lt;int&gt; |\n",
       "|---|---|\n",
       "| 0 | 118 |\n",
       "| 1 |   3 |\n",
       "| 2 | 108 |\n",
       "\n"
      ],
      "text/plain": [
       "  restecg count\n",
       "1 0       118  \n",
       "2 1         3  \n",
       "3 2       108  "
      ]
     },
     "metadata": {},
     "output_type": "display_data"
    },
    {
     "data": {
      "text/html": [
       "<table>\n",
       "<caption>A tibble: 1 × 1</caption>\n",
       "<thead>\n",
       "\t<tr><th scope=col>count</th></tr>\n",
       "\t<tr><th scope=col>&lt;int&gt;</th></tr>\n",
       "</thead>\n",
       "<tbody>\n",
       "\t<tr><td>229</td></tr>\n",
       "</tbody>\n",
       "</table>\n"
      ],
      "text/latex": [
       "A tibble: 1 × 1\n",
       "\\begin{tabular}{l}\n",
       " count\\\\\n",
       " <int>\\\\\n",
       "\\hline\n",
       "\t 229\\\\\n",
       "\\end{tabular}\n"
      ],
      "text/markdown": [
       "\n",
       "A tibble: 1 × 1\n",
       "\n",
       "| count &lt;int&gt; |\n",
       "|---|\n",
       "| 229 |\n",
       "\n"
      ],
      "text/plain": [
       "  count\n",
       "1 229  "
      ]
     },
     "metadata": {},
     "output_type": "display_data"
    },
    {
     "data": {
      "image/png": "[encoded data removed]",
      "text/plain": [
       "plot without title"
      ]
     },
     "metadata": {
      "image/png": {
       "height": 420,
       "width": 420
      }
     },
     "output_type": "display_data"
    },
    {
     "data": {
      "image/png": "[encoded data removed]",
      "text/plain": [
       "plot without title"
      ]
     },
     "metadata": {
      "image/png": {
       "height": 420,
       "width": 420
      }
     },
     "output_type": "display_data"
    }
   ],
   "source": [
    "# data summarize\n",
    "print(\"Read Attribute Information for more info about column names\")\n",
    "count_cp <- group_by(heart_data_train,cp) %>%\n",
    "            summarize(count = n())\n",
    "count_cp\n",
    "\n",
    "count_restecg <- group_by(heart_data_train,restecg) %>%\n",
    "            summarize(count = n())\n",
    "count_restecg  \n",
    "\n",
    "count_num <- group_by(heart_data_train) %>%\n",
    "            summarize(count = n())\n",
    "count_num #total number of data points\n",
    "\n",
    "# data visualize\n",
    "\n",
    "chol_plot <- ggplot(heart_data_train,  aes(x = chol)) +\n",
    "    geom_histogram(bins=30) +\n",
    "    xlab(\"serum cholestoral (mg/dl)\") +\n",
    "    ggtitle(\"Serum Cholestoral Distribution\")\n",
    "    \n",
    "chol_plot\n",
    "\n",
    "age_plot <- ggplot(heart_data_train,  aes(x = age)) +\n",
    "    geom_histogram(binwidth = 3) +\n",
    "    ggtitle(\"Age Distribution\")\n",
    "    \n",
    "age_plot"
   ]
  },
  {
   "cell_type": "markdown",
   "metadata": {},
   "source": [
    "## Methods\n",
    "* We are going to use the age, chol, restecg and cp columns to predict the num column - diagnosis of heart disease (where any value above 0 shows the presence of angiographic disease). We selected these predictors as heart disease is linked to age, (high) cholesterol, (abnormal) ECG readings and chest pain (a common symptom of heart disease). \n",
    "* Future visualizations will use color prediction maps to help visualize and easily interpret data. \n",
    "* We will create a k-nn model specification with a recipe and train the model with the training data to build the classifier. We will then use the testing data to make the predictions.\n"
   ]
  },
  {
   "cell_type": "markdown",
   "metadata": {},
   "source": [
    "## Expected Outcomes \n",
    "### What do you expect to find?\n",
    "\n",
    "* We expect to find a relation between the predictors(age , chol , restecg , cp )  and num (heart disease). Based on our own knowledge we think higher ages, cholesterol values, left ventricular hypertrophy (from restecg results) and all types of chest pain will be correlated with heart disease.\n",
    "\n",
    "### What impact could such findings have?\n",
    "\n",
    "* Findings could lead to recognition of heart disease on the basis of predictor variable data. Our predictor data is quite easily obtainable from basic visits in medical settings. If this data could reliably predict diagnoses we could help save medical costs associated with administering heart disease specific expensive medical testing to everyone in the population and can identify patients at greater risk for diagnoses (who could then be allocated further testing resources).\n",
    "\n",
    "### What future questions could this lead to \n",
    "\n",
    " * Is there a relation between all our predictors and num ? \n",
    " * What combination of attribute data can lead to a more accurate diagnosis of heart disease ?\n",
    " * Does cholesterol have a disproportionate effect on presence of heart disease? \n",
    " * Do certain attributes act as better predictor variables depending on the age range of the patient?\n"
   ]
  },
  {
   "cell_type": "code",
   "execution_count": null,
   "metadata": {},
   "outputs": [],
   "source": []
  }
 ],
 "metadata": {
  "kernelspec": {
   "display_name": "R",
   "language": "R",
   "name": "ir"
  },
  "language_info": {
   "codemirror_mode": "r",
   "file_extension": ".r",
   "mimetype": "text/x-r-source",
   "name": "R",
   "pygments_lexer": "r",
   "version": "4.0.0"
  }
 },
 "nbformat": 4,
 "nbformat_minor": 4
}
